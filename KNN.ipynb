{
  "nbformat": 4,
  "nbformat_minor": 0,
  "metadata": {
    "colab": {
      "provenance": [],
      "authorship_tag": "ABX9TyPBCXbjQZd5ZKJbogAEqESh",
      "include_colab_link": true
    },
    "kernelspec": {
      "name": "python3",
      "display_name": "Python 3"
    },
    "language_info": {
      "name": "python"
    }
  },
  "cells": [
    {
      "cell_type": "markdown",
      "metadata": {
        "id": "view-in-github",
        "colab_type": "text"
      },
      "source": [
        "<a href=\"https://colab.research.google.com/github/rakesh22230/Machine_Learning_Practise/blob/main/KNN.ipynb\" target=\"_parent\"><img src=\"https://colab.research.google.com/assets/colab-badge.svg\" alt=\"Open In Colab\"/></a>"
      ]
    },
    {
      "cell_type": "code",
      "execution_count": 2,
      "metadata": {
        "colab": {
          "base_uri": "https://localhost:8080/"
        },
        "id": "lMtGik_p8jaO",
        "outputId": "d4c3b79a-1566-46ba-f90d-03ff335f0d94"
      },
      "outputs": [
        {
          "output_type": "stream",
          "name": "stdout",
          "text": [
            "['sepal length (cm)', 'sepal width (cm)', 'petal length (cm)', 'petal width (cm)']\n"
          ]
        }
      ],
      "source": [
        "import sklearn\n",
        "from sklearn.datasets import load_iris\n",
        "iris = load_iris()\n",
        "print(iris.feature_names)"
      ]
    },
    {
      "cell_type": "code",
      "source": [
        "print(iris.target)\n",
        "print(f\"\\n{iris.target_names}\")"
      ],
      "metadata": {
        "colab": {
          "base_uri": "https://localhost:8080/"
        },
        "id": "KjE6Mf1_-BXU",
        "outputId": "206635f2-859c-4d2f-e507-9a47f80337c4"
      },
      "execution_count": 4,
      "outputs": [
        {
          "output_type": "stream",
          "name": "stdout",
          "text": [
            "[0 0 0 0 0 0 0 0 0 0 0 0 0 0 0 0 0 0 0 0 0 0 0 0 0 0 0 0 0 0 0 0 0 0 0 0 0\n",
            " 0 0 0 0 0 0 0 0 0 0 0 0 0 1 1 1 1 1 1 1 1 1 1 1 1 1 1 1 1 1 1 1 1 1 1 1 1\n",
            " 1 1 1 1 1 1 1 1 1 1 1 1 1 1 1 1 1 1 1 1 1 1 1 1 1 1 2 2 2 2 2 2 2 2 2 2 2\n",
            " 2 2 2 2 2 2 2 2 2 2 2 2 2 2 2 2 2 2 2 2 2 2 2 2 2 2 2 2 2 2 2 2 2 2 2 2 2\n",
            " 2 2]\n",
            "\n",
            "['setosa' 'versicolor' 'virginica']\n"
          ]
        }
      ]
    },
    {
      "cell_type": "code",
      "source": [
        "print(iris.data.shape)"
      ],
      "metadata": {
        "colab": {
          "base_uri": "https://localhost:8080/"
        },
        "id": "2i2Oqza3-eWb",
        "outputId": "4b362fc5-4b99-4f55-f02b-3f437e358ef8"
      },
      "execution_count": 5,
      "outputs": [
        {
          "output_type": "stream",
          "name": "stdout",
          "text": [
            "(150, 4)\n"
          ]
        }
      ]
    },
    {
      "cell_type": "code",
      "source": [
        "X = iris.data[:, :4]\n",
        "y = iris.target\n",
        "from sklearn.model_selection import train_test_split\n",
        "X_train ,X_test ,y_train ,y_test=train_test_split(X,y,test_size =0.30)\n"
      ],
      "metadata": {
        "id": "CY2-RdmM-8iy"
      },
      "execution_count": 11,
      "outputs": []
    },
    {
      "cell_type": "code",
      "source": [
        "from sklearn.preprocessing import StandardScaler\n",
        "scaler = StandardScaler()\n",
        "scaler.fit(X_train)\n",
        "X_train = scaler.transform(X_train)\n",
        "X_test = scaler.transform(X_test)\n",
        "print(X_train.shape)\n",
        "print(X_test.shape)"
      ],
      "metadata": {
        "colab": {
          "base_uri": "https://localhost:8080/"
        },
        "id": "ErNbICEOEUYb",
        "outputId": "88d0e156-fa66-4b10-d57c-0f68145c38f0"
      },
      "execution_count": 12,
      "outputs": [
        {
          "output_type": "stream",
          "name": "stdout",
          "text": [
            "(105, 4)\n",
            "(45, 4)\n"
          ]
        }
      ]
    },
    {
      "cell_type": "code",
      "source": [
        "from sklearn.neighbors import KNeighborsClassifier\n",
        "from sklearn import metrics\n",
        "import matplotlib.pyplot as plt\n",
        "\n",
        "# Define range of k values\n",
        "range_k = range(1, 16)\n",
        "scores = {}\n",
        "scores_list = []\n",
        "\n",
        "# Iterate through k values from 1 to 15\n",
        "for k in range_k:\n",
        "    # Initialize the KNeighborsClassifier with k neighbors\n",
        "    classifier = KNeighborsClassifier(n_neighbors=k)\n",
        "\n",
        "    # Fit the model on the training data\n",
        "    classifier.fit(X_train, y_train)\n",
        "\n",
        "    # Predict the labels on the test data\n",
        "    y_pred = classifier.predict(X_test)\n",
        "\n",
        "    # Calculate the accuracy for the current value of k\n",
        "    accuracy = metrics.accuracy_score(y_test, y_pred)\n",
        "    scores[k] = accuracy\n",
        "    scores_list.append(accuracy)\n",
        "\n",
        "    # Compute confusion matrix and classification report\n",
        "    result = metrics.confusion_matrix(y_test, y_pred)\n",
        "    result1 = metrics.classification_report(y_test, y_pred)\n",
        "\n",
        "    # Print results for each k\n",
        "    print(f\"Results for k={k}:\")\n",
        "    print(\"Confusion Matrix:\")\n",
        "    print(f\"{result}\\n\")\n",
        "    print(\"Classification Report:\")\n",
        "    print(f\"{result}\\n\")\n",
        "    print(\"-\" * 60)\n",
        "\n",
        "# Plot accuracy for different k values\n",
        "plt.plot(range_k, scores_list, marker='o')\n",
        "plt.title('KNN Accuracy for Different k Values')\n",
        "plt.xlabel('Number of Neighbors (k)')\n",
        "plt.ylabel('Accuracy')\n",
        "plt.xticks(range_k)\n",
        "plt.grid(True)\n",
        "plt.show()\n"
      ],
      "metadata": {
        "colab": {
          "base_uri": "https://localhost:8080/",
          "height": 1000
        },
        "id": "nyEritlOErmG",
        "outputId": "841cbbcf-15f3-46d7-a5a1-bd54777e0f45"
      },
      "execution_count": 14,
      "outputs": [
        {
          "output_type": "stream",
          "name": "stdout",
          "text": [
            "Results for k=1:\n",
            "Confusion Matrix:\n",
            "[[13  0  0]\n",
            " [ 0 12  0]\n",
            " [ 0  3 17]]\n",
            "\n",
            "Classification Report:\n",
            "[[13  0  0]\n",
            " [ 0 12  0]\n",
            " [ 0  3 17]]\n",
            "\n",
            "------------------------------------------------------------\n",
            "Results for k=2:\n",
            "Confusion Matrix:\n",
            "[[13  0  0]\n",
            " [ 0 12  0]\n",
            " [ 0  3 17]]\n",
            "\n",
            "Classification Report:\n",
            "[[13  0  0]\n",
            " [ 0 12  0]\n",
            " [ 0  3 17]]\n",
            "\n",
            "------------------------------------------------------------\n",
            "Results for k=3:\n",
            "Confusion Matrix:\n",
            "[[13  0  0]\n",
            " [ 0 12  0]\n",
            " [ 0  2 18]]\n",
            "\n",
            "Classification Report:\n",
            "[[13  0  0]\n",
            " [ 0 12  0]\n",
            " [ 0  2 18]]\n",
            "\n",
            "------------------------------------------------------------\n",
            "Results for k=4:\n",
            "Confusion Matrix:\n",
            "[[13  0  0]\n",
            " [ 0 12  0]\n",
            " [ 0  4 16]]\n",
            "\n",
            "Classification Report:\n",
            "[[13  0  0]\n",
            " [ 0 12  0]\n",
            " [ 0  4 16]]\n",
            "\n",
            "------------------------------------------------------------\n",
            "Results for k=5:\n",
            "Confusion Matrix:\n",
            "[[13  0  0]\n",
            " [ 0 12  0]\n",
            " [ 0  2 18]]\n",
            "\n",
            "Classification Report:\n",
            "[[13  0  0]\n",
            " [ 0 12  0]\n",
            " [ 0  2 18]]\n",
            "\n",
            "------------------------------------------------------------\n",
            "Results for k=6:\n",
            "Confusion Matrix:\n",
            "[[13  0  0]\n",
            " [ 0 12  0]\n",
            " [ 0  2 18]]\n",
            "\n",
            "Classification Report:\n",
            "[[13  0  0]\n",
            " [ 0 12  0]\n",
            " [ 0  2 18]]\n",
            "\n",
            "------------------------------------------------------------\n",
            "Results for k=7:\n",
            "Confusion Matrix:\n",
            "[[13  0  0]\n",
            " [ 0 12  0]\n",
            " [ 0  1 19]]\n",
            "\n",
            "Classification Report:\n",
            "[[13  0  0]\n",
            " [ 0 12  0]\n",
            " [ 0  1 19]]\n",
            "\n",
            "------------------------------------------------------------\n",
            "Results for k=8:\n",
            "Confusion Matrix:\n",
            "[[13  0  0]\n",
            " [ 0 12  0]\n",
            " [ 0  1 19]]\n",
            "\n",
            "Classification Report:\n",
            "[[13  0  0]\n",
            " [ 0 12  0]\n",
            " [ 0  1 19]]\n",
            "\n",
            "------------------------------------------------------------\n",
            "Results for k=9:\n",
            "Confusion Matrix:\n",
            "[[13  0  0]\n",
            " [ 0 12  0]\n",
            " [ 0  1 19]]\n",
            "\n",
            "Classification Report:\n",
            "[[13  0  0]\n",
            " [ 0 12  0]\n",
            " [ 0  1 19]]\n",
            "\n",
            "------------------------------------------------------------\n",
            "Results for k=10:\n",
            "Confusion Matrix:\n",
            "[[13  0  0]\n",
            " [ 0 12  0]\n",
            " [ 0  1 19]]\n",
            "\n",
            "Classification Report:\n",
            "[[13  0  0]\n",
            " [ 0 12  0]\n",
            " [ 0  1 19]]\n",
            "\n",
            "------------------------------------------------------------\n",
            "Results for k=11:\n",
            "Confusion Matrix:\n",
            "[[13  0  0]\n",
            " [ 0 12  0]\n",
            " [ 0  1 19]]\n",
            "\n",
            "Classification Report:\n",
            "[[13  0  0]\n",
            " [ 0 12  0]\n",
            " [ 0  1 19]]\n",
            "\n",
            "------------------------------------------------------------\n",
            "Results for k=12:\n",
            "Confusion Matrix:\n",
            "[[13  0  0]\n",
            " [ 0 12  0]\n",
            " [ 0  1 19]]\n",
            "\n",
            "Classification Report:\n",
            "[[13  0  0]\n",
            " [ 0 12  0]\n",
            " [ 0  1 19]]\n",
            "\n",
            "------------------------------------------------------------\n",
            "Results for k=13:\n",
            "Confusion Matrix:\n",
            "[[13  0  0]\n",
            " [ 0 11  1]\n",
            " [ 0  1 19]]\n",
            "\n",
            "Classification Report:\n",
            "[[13  0  0]\n",
            " [ 0 11  1]\n",
            " [ 0  1 19]]\n",
            "\n",
            "------------------------------------------------------------\n",
            "Results for k=14:\n",
            "Confusion Matrix:\n",
            "[[13  0  0]\n",
            " [ 0 11  1]\n",
            " [ 0  1 19]]\n",
            "\n",
            "Classification Report:\n",
            "[[13  0  0]\n",
            " [ 0 11  1]\n",
            " [ 0  1 19]]\n",
            "\n",
            "------------------------------------------------------------\n",
            "Results for k=15:\n",
            "Confusion Matrix:\n",
            "[[13  0  0]\n",
            " [ 0 11  1]\n",
            " [ 0  1 19]]\n",
            "\n",
            "Classification Report:\n",
            "[[13  0  0]\n",
            " [ 0 11  1]\n",
            " [ 0  1 19]]\n",
            "\n",
            "------------------------------------------------------------\n"
          ]
        },
        {
          "output_type": "display_data",
          "data": {
            "text/plain": [
              "<Figure size 640x480 with 1 Axes>"
            ],
            "image/png": "[encoded data removed]"
          },
          "metadata": {}
        }
      ]
    }
  ]
}