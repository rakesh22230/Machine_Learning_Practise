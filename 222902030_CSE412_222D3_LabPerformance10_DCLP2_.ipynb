{
  "nbformat": 4,
  "nbformat_minor": 0,
  "metadata": {
    "colab": {
      "provenance": [],
      "authorship_tag": "ABX9TyOrvmfpIJj0Z1cwuoAKHS/Y",
      "include_colab_link": true
    },
    "kernelspec": {
      "name": "python3",
      "display_name": "Python 3"
    },
    "language_info": {
      "name": "python"
    }
  },
  "cells": [
    {
      "cell_type": "markdown",
      "metadata": {
        "id": "view-in-github",
        "colab_type": "text"
      },
      "source": [
        "<a href=\"https://colab.research.google.com/github/rakesh22230/Machine_Learning_Practise/blob/main/222902030_CSE412_222D3_LabPerformance10_DCLP2_.ipynb\" target=\"_parent\"><img src=\"https://colab.research.google.com/assets/colab-badge.svg\" alt=\"Open In Colab\"/></a>"
      ]
    },
    {
      "cell_type": "code",
      "metadata": {
        "colab": {
          "base_uri": "https://localhost:8080/"
        },
        "id": "f6ee793f",
        "outputId": "ef4905af-72e1-4ef3-8fc5-895f5c0e86e7"
      },
      "source": [
        "\n",
        "import pandas as pd\n",
        "import numpy as np\n",
        "from sklearn.model_selection import train_test_split\n",
        "from sklearn.feature_extraction.text import CountVectorizer\n",
        "from sklearn.naive_bayes import MultinomialNB\n",
        "from sklearn.metrics import accuracy_score, precision_score, recall_score, f1_score, confusion_matrix\n",
        "\n",
        "file_path = '/content/spam.csv'\n",
        "df = pd.read_csv(file_path, encoding='latin-1')\n",
        "\n",
        "# Step 1: Convert labels ('ham', 'spam') to binary (0 = ham, 1 = spam)\n",
        "df['v1'] = df['v1'].map({'ham': 0, 'spam': 1}) # Corrected column name to 'v1'\n",
        "\n",
        "# Step 2: Convert text data to numeric features using Bag of Words\n",
        "vectorizer = CountVectorizer()\n",
        "X = vectorizer.fit_transform(df['v2'])  # Features (word counts), Corrected column name to 'v2'\n",
        "y = df['v1']                              # Labels (0 or 1), Corrected column name to 'v1'\n",
        "\n",
        "# Step 3: Find best random state for 80/20 split\n",
        "best_state = 0\n",
        "best_accuracy = 0\n",
        "\n",
        "for state in range(1, 51):  # Try 50 different random states\n",
        "    X_train, X_test, y_train, y_test = train_test_split(X, y, test_size=0.2, random_state=state)\n",
        "    model = MultinomialNB()\n",
        "    model.fit(X_train, y_train)\n",
        "    y_pred = model.predict(X_test)\n",
        "    acc = accuracy_score(y_test, y_pred)\n",
        "    if acc > best_accuracy:\n",
        "        best_accuracy = acc\n",
        "        best_state = state\n",
        "\n",
        "# Step 4: Final training using best random state\n",
        "X_train, X_test, y_train, y_test = train_test_split(X, y, test_size=0.2, random_state=best_state)\n",
        "final_model = MultinomialNB()\n",
        "final_model.fit(X_train, y_train)\n",
        "y_pred = final_model.predict(X_test)\n",
        "\n",
        "# Step 5: Evaluation\n",
        "accuracy = accuracy_score(y_test, y_pred)\n",
        "precision = precision_score(y_test, y_pred)\n",
        "recall = recall_score(y_test, y_pred)\n",
        "f1 = f1_score(y_test, y_pred)\n",
        "cm = confusion_matrix(y_test, y_pred)\n",
        "\n",
        "# Step 6: Output results\n",
        "print(f\" Best Random State: {best_state}\")\n",
        "print(f\"Accuracy:  {accuracy:.4f}\")\n",
        "print(f\" Precision: {precision:.4f}\")\n",
        "print(f\" Recall:    {recall:.4f}\")\n",
        "print(f\" F1 Score:  {f1:.4f}\")\n",
        "print(\" Confusion Matrix:\\n\", cm)"
      ],
      "execution_count": 17,
      "outputs": [
        {
          "output_type": "stream",
          "name": "stdout",
          "text": [
            " Best Random State: 25\n",
            "Accuracy:  0.9892\n",
            " Precision: 0.9527\n",
            " Recall:    0.9758\n",
            " F1 Score:  0.9641\n",
            " Confusion Matrix:\n",
            " [[942   8]\n",
            " [  4 161]]\n"
          ]
        }
      ]
    }
  ]
}